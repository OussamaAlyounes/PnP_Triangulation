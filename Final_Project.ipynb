{
 "cells": [
  {
   "cell_type": "code",
   "execution_count": 1,
   "id": "d481e187",
   "metadata": {},
   "outputs": [],
   "source": [
    "import numpy as np\n",
    "from scipy.spatial.transform import Rotation as R\n",
    "from scipy.spatial.transform import Slerp\n",
    "import statistics as stat\n",
    "import matplotlib.pyplot as plt\n",
    "import cv2\n",
    "import json\n",
    "import pnp_solution as pnp\n",
    "import pos_rotation_statistics as stat\n",
    "import triangulation_solution as triang"
   ]
  },
  {
   "cell_type": "code",
   "execution_count": 2,
   "id": "f63e1117",
   "metadata": {},
   "outputs": [],
   "source": [
    "NUM_KEYPOINTS = 19\n",
    "cameraMatrix = np.asarray([[634.14800253, 0., 629.36554151],\n",
    "                           [0., 634.13672323, 361.22908492],\n",
    "                           [0., 0., 1. ]])\n",
    "distCoeffs = np.asarray([[-0.053358, 0.05795461, -0.00042388, 0.00043828, -0.01121712]])\n",
    "\n",
    "R_cam2gripper = R.from_rotvec([-0.02193857, -0.03329439, -3.14092666]).as_matrix()\n",
    "trans_cam2gripper = np.array([[-11.93768264], [118.74955747], [207.06885955]])\n",
    "\n",
    "data_path = \"config_14May_tast_env_2/raw/\"\n",
    "directions = [\"up\", \"down\", \"left\", \"right\"]\n",
    "nums = 100\n",
    "quat_all_pnp = np.array([[0., 0, 0, 0]])\n",
    "trans_all_pnp = np.array([[0., 0, 0]])\n",
    "\n",
    "T_cam2gripper = np.concatenate((R_cam2gripper, trans_cam2gripper), axis=1)\n",
    "T_cam2gripper = np.concatenate((T_cam2gripper,[[0,0,0,1]]), axis=0)"
   ]
  },
  {
   "cell_type": "markdown",
   "id": "cf449290",
   "metadata": {},
   "source": [
    "## 1. Triangulation\n"
   ]
  },
  {
   "cell_type": "code",
   "execution_count": 3,
   "id": "e93543da",
   "metadata": {
    "scrolled": false
   },
   "outputs": [
    {
     "name": "stdout",
     "output_type": "stream",
     "text": [
      "[-3.44190745e+01  6.41861981e+00 -1.40512479e+01  4.42342774e+04]\n"
     ]
    },
    {
     "data": {
      "image/png": "[encoded data removed]",
      "text/plain": [
       "<Figure size 1224x360 with 4 Axes>"
      ]
     },
     "metadata": {
      "needs_background": "light"
     },
     "output_type": "display_data"
    }
   ],
   "source": [
    "nums = 100\n",
    "points_two_directions = []\n",
    "\n",
    "for num in range(0,4,2):\n",
    "    my_sys = triang.triangulation_solution(cameraMatrix)\n",
    "    img_path1 = data_path + directions[num] + \"/frame_env_2_\" + directions[num] + \"_\" + str(num) + \".jpg\"\n",
    "    cord_path1 = data_path + directions[num] + \"/meta_env_2_\" + directions[num] + \"_\" + str(num) + \".json\"\n",
    "    img_path2 = data_path + directions[num+1] + \"/frame_env_2_\" + directions[num+1] + \"_\" + str(num+1) + \".jpg\"\n",
    "    cord_path2 = data_path + directions[num+1] + \"/meta_env_2_\" + directions[num+1] + \"_\" + str(num+1) + \".json\"\n",
    "    \n",
    "    keypoints_path1 = \"Oussama_\" + directions[num] + \"points.npz\"\n",
    "    keypoints_path2 = \"Oussama_\" + directions[num+1] + \"points.npz\"\n",
    "\n",
    "    points_new = my_sys.triangulate_all_pairs(nums_im = nums, num_keypoits = 11,\n",
    "                                         cord_path1 = cord_path1, cord_path2 = cord_path2,\n",
    "                                         keypoints_path1 = keypoints_path1, keypoints_path2 = keypoints_path2,\n",
    "                                         T_cam2gripper = T_cam2gripper)\n",
    "    points_two_directions.append(points_new)\n",
    "\n",
    "points_coord = (points_two_directions[0] + points_two_directions[1])/2\n",
    "equation_mean = np.zeros(4)\n",
    "\n",
    "fig, axs = plt.subplots(1, 4, figsize = (17,5))\n",
    "axs[0].set_title(\"a\")\n",
    "axs[1].set_title(\"b\")\n",
    "axs[2].set_title(\"c\")\n",
    "axs[3].set_title(\"d\")\n",
    "\n",
    "for i in range(len(points_coord)-3):\n",
    "    equation = my_sys.equation_plane(points_coord[i], points_coord[i+1], points_coord[i+2])\n",
    "    axs[0].scatter(i, equation[0], c ='g')\n",
    "    axs[1].scatter(i, equation[1] ,c ='g')\n",
    "    axs[2].scatter(i, equation[2] ,c ='g')\n",
    "    axs[3].scatter(i, equation[3] ,c ='g')\n",
    "    equation_mean += equation\n",
    "\n",
    "equation_mean = equation_mean/(len(points_coord)-3)\n",
    "print(equation_mean)\n",
    "z_axis = equation_mean[:-1]\n",
    "equation_mean /= np.linalg.norm(z_axis)\n",
    "trans_model2base_tria = (points_coord[4] + points_coord[5])/2\n",
    "x_axis = points_coord[5] - points_coord[4]\n",
    "x_axis /= np.linalg.norm(x_axis)\n",
    "y_axis = np.cross(z_axis, x_axis)\n",
    "R_model2base_tria = np.array([x_axis, y_axis, z_axis]).T\n",
    "T_model2base_tria = np.concatenate((R_model2base_tria, trans_model2base_tria[None].T), axis = 1)\n",
    "T_model2base_tria = np.concatenate((T_model2base_tria, [[0, 0, 0, 1]]), axis = 0)\n",
    "\n"
   ]
  },
  {
   "cell_type": "markdown",
   "id": "3b282d3d",
   "metadata": {},
   "source": [
    "## 2. PnP"
   ]
  },
  {
   "cell_type": "code",
   "execution_count": 4,
   "id": "41fd4011",
   "metadata": {},
   "outputs": [
    {
     "name": "stdout",
     "output_type": "stream",
     "text": [
      "up\n",
      "99\n",
      "down\n",
      "99\n",
      "left\n",
      "99\n",
      "right\n",
      "99\n"
     ]
    }
   ],
   "source": [
    "for direction in directions:\n",
    "    print(direction)\n",
    "    points_path = \"Oussama_\" + direction + \"points.npz\"\n",
    "    for num in range(nums):\n",
    "        if(num == nums - 1):\n",
    "            print(num)\n",
    "\n",
    "        im_path = data_path + direction + \"/frame_env_2_\" + direction + \"_\" + str(num) + \".jpg\"\n",
    "        cord_path = data_path + direction + \"/meta_env_2_\" + direction + \"_\" + str(num) + \".json\"\n",
    "        \n",
    "        my_sys = pnp.pnp_solution(NUM_KEYPOINTS = 19, mtx = cameraMatrix, dist = distCoeffs, \n",
    "                              im_path = im_path, cord_path = cord_path)\n",
    "        \n",
    "        img = cv2.imread(my_sys.img_path)\n",
    "        points = my_sys.predict_socket_points(points_path)[num]\n",
    "        im_points = np.concatenate((points[2:6, :], points[7:9, :], points[10:15, :]), axis=0)\n",
    "        im_points = np.array(im_points, dtype=np.float32)\n",
    "        object_points = my_sys.real_coordinate()\n",
    "        object_points = np.concatenate((object_points[2:6,:], object_points[7:9,:],object_points[10:15,:]), axis=0)\n",
    "\n",
    "        retval, rot_vec, trans_vec = cv2.solvePnP(objectPoints=object_points,\n",
    "                                                  imagePoints=im_points,\n",
    "                                                  distCoeffs=my_sys.dist,\n",
    "                                                  cameraMatrix=my_sys.mtx)\n",
    "        \n",
    "#         retval, rot_vec, trans_vec = my_sys.solvepnp_problem(objectPoints=object_points,\n",
    "#                                                              imagePoints=im_points)\n",
    "        \n",
    "        R_model2cam = R.from_rotvec(rot_vec.T[0]).as_matrix()\n",
    "        T_model2cam = np.concatenate((R_model2cam, trans_vec), axis=1)\n",
    "        T_model2cam = np.concatenate((T_model2cam,[[0,0,0,1]]), axis=0)\n",
    "    \n",
    "        with open(my_sys.cord_path) as json_file:\n",
    "            json_data = json.load(json_file)\n",
    "            R_gripper2base = R.from_rotvec(np.array(json_data['l'][3:])).as_matrix()\n",
    "            trans_gripper2base = np.array(json_data['l'][:3])*1000\n",
    "            \n",
    "        T_gripper2base = np.concatenate((R_gripper2base, trans_gripper2base[None].T), axis = 1)\n",
    "        T_gripper2base = np.concatenate((T_gripper2base, [[0,0,0,1]]), axis = 0)\n",
    "        T_model2base = T_gripper2base @ T_cam2gripper @ T_model2cam\n",
    "\n",
    "        R_model2base = T_model2base[0:3,0:3]\n",
    "        trans_model2base = T_model2base[:-1, -1]\n",
    "        R_quat = R.from_matrix(R_model2base).as_quat()\n",
    "        quat_all_pnp = np.concatenate((quat_all_pnp, R_quat[None]), axis = 0)\n",
    "        trans_all_pnp = np.concatenate((trans_all_pnp, trans_model2base[None]), axis = 0)\n",
    "\n",
    "quat_all_pnp = quat_all_pnp[1:]\n",
    "trans_all_pnp = trans_all_pnp[1:]"
   ]
  },
  {
   "cell_type": "code",
   "execution_count": 5,
   "id": "db114c72",
   "metadata": {
    "scrolled": false
   },
   "outputs": [
    {
     "name": "stdout",
     "output_type": "stream",
     "text": [
      "[1000.85744133  -57.02859108  690.4862228 ]\n",
      "[[-0.02377479  0.0344708  -0.99912288]\n",
      " [-0.99887838  0.04011609  0.02515302]\n",
      " [ 0.04094794  0.99860025  0.03347838]]\n",
      "4.252804751574788  mm\n"
     ]
    },
    {
     "data": {
      "image/png": "[encoded data removed]",
      "text/plain": [
       "<Figure size 1080x360 with 3 Axes>"
      ]
     },
     "metadata": {
      "needs_background": "light"
     },
     "output_type": "display_data"
    }
   ],
   "source": [
    "quat_up = quat_all_pnp[:nums]\n",
    "quat_down = quat_all_pnp[nums:2*nums]\n",
    "quat_left = quat_all_pnp[2*nums:3*nums]\n",
    "quat_right = quat_all_pnp[3*nums:4*nums]\n",
    "\n",
    "rot_up = stat.rotation_statistics(quat_up)\n",
    "rot_down = stat.rotation_statistics(quat_down)\n",
    "rot_right = stat.rotation_statistics(quat_left)\n",
    "rot_left = stat.rotation_statistics(quat_right)\n",
    "\n",
    "translations_up = trans_all_pnp[:num]\n",
    "translations_down = trans_all_pnp[num:2*num]\n",
    "translations_left = trans_all_pnp[2*num:3*num]\n",
    "translations_right = trans_all_pnp[3*num:4*num]\n",
    "\n",
    "trans_up = stat.trans_statistics(translations_up)\n",
    "trans_down = stat.trans_statistics(translations_down)\n",
    "trans_right = stat.trans_statistics(translations_left)\n",
    "trans_left = stat.trans_statistics(translations_right)\n",
    "\n",
    "angle_error_up = rot_up.angle_error()\n",
    "angle_error_down = rot_down.angle_error()\n",
    "angle_error_left = rot_left.angle_error()\n",
    "angle_error_right = rot_right.angle_error()\n",
    "\n",
    "trans_error_up = trans_up.translation_error()\n",
    "trans_error_down = trans_down.translation_error()\n",
    "trans_error_left = trans_left.translation_error()\n",
    "trans_error_right = trans_right.translation_error()\n",
    "\n",
    "rot_all = stat.rotation_statistics(quat_all_pnp)\n",
    "angle_error_all = rot_all.angle_error()\n",
    "R_model2base_pnp = rot_all.rot_mean.as_matrix()\n",
    "\n",
    "trans_all = stat.trans_statistics(trans_all_pnp)\n",
    "trans_error_all = trans_all.translation_error()\n",
    "trans_model2base_pnp = np.array([trans_all.x_mean, trans_all.y_mean, trans_all.z_mean])\n",
    "print(trans_model2base_pnp)\n",
    "print(R_model2base_pnp)\n",
    "\n",
    "# print(np.rad2deg(angle_error_up), \" degrees\")\n",
    "# print(np.rad2deg(angle_error_down),\" degrees\")\n",
    "# print(np.rad2deg(angle_error_left), \" degrees\")\n",
    "# print(np.rad2deg(angle_error_right), \" degrees\")\n",
    "# print(np.rad2deg(angle_error_all), \" degrees\")\n",
    "\n",
    "# print(\"\")\n",
    "\n",
    "# print(trans_error_up, \" mm\")\n",
    "# print(trans_error_down, \" mm\")\n",
    "# print(trans_error_left, \" mm\")\n",
    "# print(trans_error_right, \" mm\")\n",
    "print(trans_error_all, \" mm\")\n",
    "\n",
    "# print(trans_error_all, \" mm\")\n",
    "\n",
    "# rot_up.draw_stat(['yaw', \"pitch\", 'roll'])\n",
    "# rot_down.draw_stat(['yaw', \"pitch\", 'roll'])\n",
    "# rot_left.draw_stat(['yaw', \"pitch\", 'roll'])\n",
    "# rot_right.draw_stat(['yaw', \"pitch\", 'roll'])\n",
    "# rot_all.draw_stat(['yaw (degrees)', \"pitch (degrees)\", 'roll (degrees)'], degrees = True)\n",
    "\n",
    "# plt.hist(quat_up[:,0])\n",
    "plt.show()\n",
    "# trans_up.draw_stat('xyz')\n",
    "# trans_down.draw_stat('xyz')\n",
    "# trans_left.draw_stat('xyz')\n",
    "# trans_right.draw_stat('xyz')\n",
    "trans_all.draw_stat(['x (mm)', 'y (mm)', 'z (mm)'])"
   ]
  },
  {
   "cell_type": "markdown",
   "id": "bbea5d07",
   "metadata": {},
   "source": [
    "## 3. Comparision"
   ]
  },
  {
   "cell_type": "code",
   "execution_count": 17,
   "id": "e846d3a4",
   "metadata": {},
   "outputs": [
    {
     "name": "stdout",
     "output_type": "stream",
     "text": [
      "[[ 0.90463192  0.17803843 -0.3872591 ]\n",
      " [-0.14149399  0.98250257  0.12102085]\n",
      " [ 0.40202451 -0.05465952  0.91399372]]\n",
      "[-9.69144993  4.44455034  5.85198585]\n",
      "12.162399756624211\n",
      "25.767618646733617\n"
     ]
    }
   ],
   "source": [
    "rot_error_pnp_tria = R_model2base_tria@(R_model2base_pnp.T)\n",
    "print(rot_error_pnp_tria)\n",
    "trans_error_pnp_tria = trans_model2base_tria - trans_model2base_pnp\n",
    "print(trans_error_pnp_tria)\n",
    "print(np.linalg.norm(trans_error_pnp_tria))\n",
    "angle_error_pnp_tria = np.linalg.norm((R.from_matrix(rot_error_pnp_tria)).as_rotvec())\n",
    "angle_error_pnp_tria = np.rad2deg(angle_error_pnp_tria)\n",
    "print(angle_error_pnp_tria)"
   ]
  },
  {
   "cell_type": "markdown",
   "id": "0fc50d1d",
   "metadata": {},
   "source": [
    "\\begin{equation}\n",
    "trans_{error} = \n",
    "\\begin{bmatrix}\n",
    "-9.70 & 4.44 & 5.86\\\\\n",
    "\\end{bmatrix}\n",
    "mm\n",
    "\\end{equation}\n",
    "\n",
    "$$||trans_{error}||_2 = 12.16 mm$$\n",
    "\n",
    "\\begin{equation}\n",
    "R_{error} = \n",
    "\\begin{bmatrix}\n",
    "0.90463192 & 0.17803843 &-0.3872591 \\\\\n",
    "-0.14149399 & 0.98250257 & 0.12102085\\\\\n",
    " 0.40202451 &-0.05465952 & 0.91399372\\\\\n",
    "\\end{bmatrix}\n",
    "\\end{equation}\n",
    "\n",
    "$$|angle_{error}| = 25.77 degrees$$"
   ]
  },
  {
   "cell_type": "markdown",
   "id": "77464401",
   "metadata": {},
   "source": [
    "$$ ax+by+cz+d=0 $$"
   ]
  },
  {
   "cell_type": "markdown",
   "id": "7721f4ee",
   "metadata": {},
   "source": [
    "$$a= -34.4190745 $$\n",
    "$$b = 6.41861981$$\n",
    "$$c = -14.0512479 $$\n",
    "$$d = 4.42342774 * 10^{4}$$\n",
    "$$std_{trans} = 1.42  mm$$"
   ]
  },
  {
   "cell_type": "code",
   "execution_count": 24,
   "id": "080a5c92",
   "metadata": {},
   "outputs": [
    {
     "data": {
      "text/plain": [
       "1.4166666666666667"
      ]
     },
     "execution_count": 24,
     "metadata": {},
     "output_type": "execute_result"
    }
   ],
   "source": [
    "4.25/3"
   ]
  },
  {
   "cell_type": "code",
   "execution_count": null,
   "id": "845624e6",
   "metadata": {},
   "outputs": [],
   "source": []
  }
 ],
 "metadata": {
  "kernelspec": {
   "display_name": "Python 3 (ipykernel)",
   "language": "python",
   "name": "python3"
  },
  "language_info": {
   "codemirror_mode": {
    "name": "ipython",
    "version": 3
   },
   "file_extension": ".py",
   "mimetype": "text/x-python",
   "name": "python",
   "nbconvert_exporter": "python",
   "pygments_lexer": "ipython3",
   "version": "3.8.10"
  }
 },
 "nbformat": 4,
 "nbformat_minor": 5
}
